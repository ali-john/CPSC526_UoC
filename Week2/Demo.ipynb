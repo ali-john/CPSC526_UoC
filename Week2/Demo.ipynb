{
 "cells": [
  {
   "cell_type": "markdown",
   "metadata": {},
   "source": [
    "## Python os module"
   ]
  },
  {
   "cell_type": "markdown",
   "metadata": {},
   "source": [
    "The os module in python provides functions for interating with the operating system. Let's look at some of the important functions in this module:"
   ]
  },
  {
   "cell_type": "markdown",
   "metadata": {},
   "source": [
    "### os.system():"
   ]
  },
  {
   "cell_type": "markdown",
   "metadata": {},
   "source": [
    "os.system() method executes the command (a string) in a subshell. This method is implemented by calling the Standard C function system(). Whenever this method is used then the respective shell of the Operating system is opened and the command is executed on it.\n"
   ]
  },
  {
   "cell_type": "code",
   "execution_count": null,
   "metadata": {},
   "outputs": [],
   "source": [
    "import os\n",
    "\n",
    "command  = 'date'\n",
    "\n",
    "os.system(command=command)"
   ]
  },
  {
   "cell_type": "code",
   "execution_count": null,
   "metadata": {},
   "outputs": [],
   "source": [
    "import os\n",
    "\n",
    "command = 'ls -la'\n",
    "\n",
    "os.system(command)"
   ]
  },
  {
   "cell_type": "markdown",
   "metadata": {},
   "source": [
    "We can also execute shell commands using the os module"
   ]
  },
  {
   "cell_type": "code",
   "execution_count": 14,
   "metadata": {},
   "outputs": [],
   "source": [
    "import os\n",
    "\n",
    "os.system('zsh -c \"read -n 1 \" ')"
   ]
  },
  {
   "cell_type": "markdown",
   "metadata": {},
   "source": [
    "### os.getcwd()"
   ]
  },
  {
   "cell_type": "markdown",
   "metadata": {},
   "source": [
    "This method tells us the location of current working directory "
   ]
  },
  {
   "cell_type": "code",
   "execution_count": null,
   "metadata": {},
   "outputs": [],
   "source": [
    "import os\n",
    "\n",
    "dir  = os.getcwd()\n",
    "\n",
    "print(dir)"
   ]
  },
  {
   "cell_type": "markdown",
   "metadata": {},
   "source": [
    "### os.chdir()"
   ]
  },
  {
   "cell_type": "markdown",
   "metadata": {},
   "source": [
    "os.chdir() method in Python used to change the current working directory to specified path. It takes only a single argument as new directory path."
   ]
  },
  {
   "cell_type": "code",
   "execution_count": null,
   "metadata": {},
   "outputs": [],
   "source": [
    "import os\n",
    "\n",
    "print(f'Directory before changing: {os.getcwd()}')\n",
    "\n",
    "new_path = '/Users/alijohnnaqvi/Desktop/' #changing directory to Desktop\n",
    "\n",
    "os.chdir(new_path)\n",
    "\n",
    "print(f'Directory after changing: {os.getcwd()} ')\n"
   ]
  },
  {
   "cell_type": "markdown",
   "metadata": {},
   "source": [
    "### os.listdir()"
   ]
  },
  {
   "cell_type": "markdown",
   "metadata": {},
   "source": [
    "The function listdir returns a list containing the names of the files of this directory."
   ]
  },
  {
   "cell_type": "code",
   "execution_count": null,
   "metadata": {},
   "outputs": [],
   "source": [
    "import os\n",
    "\n",
    "files = os.listdir()\n",
    "\n",
    "print(files)"
   ]
  },
  {
   "cell_type": "markdown",
   "metadata": {},
   "source": [
    "## Python subprocess module"
   ]
  },
  {
   "cell_type": "markdown",
   "metadata": {},
   "source": [
    "This module allows you to spawn new processes, connect to their input/outputs pipes and get their return codes. Inside this module we have a run method which is used to invoke a subprocess. Let's see some examples of this module:"
   ]
  },
  {
   "cell_type": "markdown",
   "metadata": {},
   "source": [
    "### To run a command using subprocess module"
   ]
  },
  {
   "cell_type": "code",
   "execution_count": null,
   "metadata": {},
   "outputs": [],
   "source": [
    "import subprocess\n",
    "\n",
    "subprocess.run('ls')"
   ]
  },
  {
   "cell_type": "markdown",
   "metadata": {},
   "source": [
    "### Passing flags with the commands"
   ]
  },
  {
   "cell_type": "code",
   "execution_count": null,
   "metadata": {},
   "outputs": [],
   "source": [
    "# Inside run method, we have to pass various flags as a list\n",
    "\n",
    "import subprocess\n",
    "\n",
    "p1 = subprocess.run(['ls', '-la'])\n",
    "\n",
    "# We can also pass whole command as a string by setting shell=True in the run method\n",
    "\n",
    "p2 = subprocess.run('ls -la', shell = True) "
   ]
  },
  {
   "cell_type": "markdown",
   "metadata": {},
   "source": [
    "### Output from the run method"
   ]
  },
  {
   "cell_type": "code",
   "execution_count": null,
   "metadata": {},
   "outputs": [],
   "source": [
    "# A successful execution of command typically gives a 0 return code\n",
    "\n",
    "import subprocess\n",
    "\n",
    "p1 = subprocess.run('ls')\n",
    "\n",
    "print(p1.returncode)"
   ]
  },
  {
   "cell_type": "code",
   "execution_count": null,
   "metadata": {},
   "outputs": [],
   "source": [
    "# To capture the actual output from the command, we can look for the stdout return value\n",
    "\n",
    "import subprocess\n",
    "\n",
    "p1 = subprocess.run('ls')\n",
    "\n",
    "print(p1.stdout)"
   ]
  },
  {
   "cell_type": "code",
   "execution_count": null,
   "metadata": {},
   "outputs": [],
   "source": [
    "# In the previous cell, stdout show none value because it was not captured. We need to set capture_output argument in order to \n",
    "#get output. In this case, output will not be shown on the terminal \n",
    "\n",
    "import subprocess\n",
    "\n",
    "p1 = subprocess.run('ls', capture_output=True)\n",
    "\n",
    "print(p1.stdout.decode())\n",
    "\n",
    "# We used decode method in order to convert bytes to string. We can also pass text=True argument in run method for same purpose"
   ]
  },
  {
   "cell_type": "markdown",
   "metadata": {},
   "source": [
    "### Redirecting Output"
   ]
  },
  {
   "cell_type": "code",
   "execution_count": 15,
   "metadata": {},
   "outputs": [],
   "source": [
    "# We can redirect the output of a command to a file as well\n",
    "\n",
    "import subprocess\n",
    "\n",
    "with  open('output.txt', 'w') as file:\n",
    "    p1 = subprocess.run(['ls', '-la'], stdout=file, text=True)"
   ]
  },
  {
   "cell_type": "markdown",
   "metadata": {},
   "source": [
    "### Error Handling"
   ]
  },
  {
   "cell_type": "code",
   "execution_count": 17,
   "metadata": {},
   "outputs": [
    {
     "name": "stdout",
     "output_type": "stream",
     "text": [
      "1\n"
     ]
    }
   ],
   "source": [
    "# If a command fails, python does not throw an error. Instead, it return non-zero return code\n",
    "# The directory 'dne' does not exist and we get a non-zero return code\n",
    "import subprocess\n",
    "\n",
    "p1 = subprocess.run(['ls', '-la', 'dne'], capture_output=True, text=True)\n",
    "\n",
    "print(p1.returncode)"
   ]
  },
  {
   "cell_type": "code",
   "execution_count": 18,
   "metadata": {},
   "outputs": [
    {
     "name": "stdout",
     "output_type": "stream",
     "text": [
      "ls: dne: No such file or directory\n",
      "\n"
     ]
    }
   ],
   "source": [
    "# To look for specific error message, we can use stderr on the returned object\n",
    "import subprocess\n",
    "\n",
    "p1 = subprocess.run(['ls', '-la', 'dne'], capture_output=True, text=True)\n",
    "\n",
    "print(p1.stderr)\n",
    "\n",
    "# So, We can use condition on return code during our program"
   ]
  },
  {
   "cell_type": "code",
   "execution_count": 19,
   "metadata": {},
   "outputs": [
    {
     "name": "stdout",
     "output_type": "stream",
     "text": [
      "None\n"
     ]
    }
   ],
   "source": [
    "# We can also redirect our error to DEVNULL, and in this case no error will be thrown\n",
    "import subprocess\n",
    "\n",
    "p1 = subprocess.run(['ls', '-la', 'dne'], stderr=subprocess.DEVNULL)\n",
    "\n",
    "print(p1.stderr)"
   ]
  },
  {
   "cell_type": "markdown",
   "metadata": {},
   "source": [
    "### Passing one command outputs to other command as input"
   ]
  },
  {
   "cell_type": "code",
   "execution_count": 20,
   "metadata": {},
   "outputs": [
    {
     "name": "stdout",
     "output_type": "stream",
     "text": [
      "I am a student at UoC\n",
      "\n"
     ]
    }
   ],
   "source": [
    "import subprocess\n",
    "\n",
    "p1 = subprocess.run(['cat', 'output.txt'], capture_output=True, text=True)\n",
    "\n",
    "p2  =subprocess.run(['grep', 'student'], capture_output=True, text=True, input=p1.stdout)\n",
    "\n",
    "print(p2.stdout)"
   ]
  },
  {
   "cell_type": "markdown",
   "metadata": {},
   "source": [
    "### Running an python scripts"
   ]
  },
  {
   "cell_type": "code",
   "execution_count": 22,
   "metadata": {},
   "outputs": [
    {
     "name": "stdout",
     "output_type": "stream",
     "text": [
      "This is subprocess module\n",
      "\n"
     ]
    }
   ],
   "source": [
    "import subprocess\n",
    "\n",
    "p = subprocess.run(['python', 'program2.py'], capture_output=True, text=True)\n",
    "\n",
    "print(p.stdout)"
   ]
  },
  {
   "cell_type": "markdown",
   "metadata": {},
   "source": [
    "## A Use Cases"
   ]
  },
  {
   "cell_type": "code",
   "execution_count": null,
   "metadata": {},
   "outputs": [],
   "source": [
    "# In this program, we performing a backup\n",
    "import subprocess\n",
    "\n",
    "def backup(source_dir, dest_dir):\n",
    "    try:\n",
    "        rsync_command = ['rsync', '-av', '--delete', source_dir, dest_dir]\n",
    "\n",
    "        subprocess.run(rsync_command, check=True)\n",
    "        print(\"Backup completed successfully.\")\n",
    "\n",
    "    except subprocess.CalledProcessError as e:\n",
    "        print(f\"Backup failed with error: {e}\")\n",
    "\n",
    "backup(\"/Users/alijohnnaqvi/Desktop/Awards Application\", \"/Users/alijohnnaqvi/Desktop/backup\")\n"
   ]
  },
  {
   "cell_type": "code",
   "execution_count": null,
   "metadata": {},
   "outputs": [],
   "source": []
  }
 ],
 "metadata": {
  "kernelspec": {
   "display_name": "Python 3",
   "language": "python",
   "name": "python3"
  },
  "language_info": {
   "codemirror_mode": {
    "name": "ipython",
    "version": 3
   },
   "file_extension": ".py",
   "mimetype": "text/x-python",
   "name": "python",
   "nbconvert_exporter": "python",
   "pygments_lexer": "ipython3",
   "version": "3.10.12"
  }
 },
 "nbformat": 4,
 "nbformat_minor": 2
}
