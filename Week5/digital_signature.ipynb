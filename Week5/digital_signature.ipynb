{
 "cells": [
  {
   "cell_type": "markdown",
   "metadata": {},
   "source": [
    "# Creating Digital Signatures"
   ]
  },
  {
   "cell_type": "markdown",
   "metadata": {},
   "source": [
    "### Essential imports"
   ]
  },
  {
   "cell_type": "code",
   "execution_count": 42,
   "metadata": {},
   "outputs": [],
   "source": [
    "from cryptography.exceptions import InvalidSignature\n",
    "from cryptography.hazmat.primitives import hashes\n",
    "from cryptography.hazmat.primitives.asymmetric import rsa, padding\n",
    "from cryptography.hazmat.primitives import serialization\n"
   ]
  },
  {
   "cell_type": "markdown",
   "metadata": {},
   "source": [
    "### Geneate public and private keys:"
   ]
  },
  {
   "cell_type": "code",
   "execution_count": 3,
   "metadata": {},
   "outputs": [],
   "source": [
    "def generate_key():\n",
    "    private_key = rsa.generate_private_key(public_exponent=65537,key_size=2048)\n",
    "    public_key = private_key.public_key()\n",
    "    #Before serializing, cryptographic keys are typically represented as objects in memory\n",
    "    private_pem = private_key.private_bytes(\n",
    "    encoding=serialization.Encoding.PEM,\n",
    "    format=serialization.PrivateFormat.PKCS8,\n",
    "    encryption_algorithm=serialization.NoEncryption())\n",
    "    \n",
    "    public_pem = public_key.public_bytes(\n",
    "    encoding=serialization.Encoding.PEM,\n",
    "    format=serialization.PublicFormat.SubjectPublicKeyInfo)\n",
    "    \n",
    "    return private_pem, public_pem"
   ]
  },
  {
   "cell_type": "markdown",
   "metadata": {},
   "source": [
    "### Write down the keys"
   ]
  },
  {
   "cell_type": "code",
   "execution_count": 17,
   "metadata": {},
   "outputs": [],
   "source": [
    "private,public = generate_key()\n",
    "\n",
    "with open('private.key','wb') as file:\n",
    "    file.write(private)\n",
    "\n",
    "with open('public.key','wb') as file:\n",
    "    file.write(public)"
   ]
  },
  {
   "cell_type": "markdown",
   "metadata": {},
   "source": [
    "### Read stored keys"
   ]
  },
  {
   "cell_type": "code",
   "execution_count": 18,
   "metadata": {},
   "outputs": [],
   "source": [
    "with open('private.key','rb') as private:\n",
    "    private_key = serialization.load_pem_private_key(private.read(),password=None)\n",
    "\n",
    "with open('public.key','rb') as public:\n",
    "    public_key = serialization.load_pem_public_key(public.read())"
   ]
  },
  {
   "cell_type": "markdown",
   "metadata": {},
   "source": [
    "### Create Signature"
   ]
  },
  {
   "cell_type": "code",
   "execution_count": 38,
   "metadata": {},
   "outputs": [],
   "source": [
    "def signature(message,private_key):\n",
    "    # hash the message first\n",
    "    hash_algo = hashes.Hash(hashes.SHA256())\n",
    "    hash_algo.update(message)\n",
    "    hashed_message = hash_algo.finalize()\n",
    "\n",
    "    # sign the hashed message\n",
    "\n",
    "    sign = private_key.sign(hashed_message,\n",
    "    padding.PSS(mgf= padding.MGF1(hashes.SHA256()),\n",
    "    salt_length = padding.PSS.MAX_LENGTH),\n",
    "    hashes.SHA256() )\n",
    "\n",
    "    return sign\n",
    "\n",
    "\n"
   ]
  },
  {
   "cell_type": "markdown",
   "metadata": {},
   "source": [
    "### Verify signature"
   ]
  },
  {
   "cell_type": "code",
   "execution_count": 47,
   "metadata": {},
   "outputs": [],
   "source": [
    "def verify_signature(message,sign,public_key):\n",
    "    hash_algo = hashes.Hash(hashes.SHA256())\n",
    "    hash_algo.update(message)\n",
    "    hashed_message = hash_algo.finalize()\n",
    "\n",
    "    try:\n",
    "        public_key.verify(sign,hashed_message,\n",
    "        padding.PSS(mgf = padding.MGF1(hashes.SHA256()),salt_length=padding.PSS.MAX_LENGTH)\n",
    "        ,hashes.SHA256())\n",
    "\n",
    "        print('Signature is Valid')\n",
    "\n",
    "        \n",
    "        return True\n",
    "\n",
    "    except InvalidSignature:\n",
    "        print('Sign not valid')\n",
    "        return False\n",
    "\n",
    "\n",
    "\n"
   ]
  },
  {
   "cell_type": "markdown",
   "metadata": {},
   "source": [
    "### Testing the signature"
   ]
  },
  {
   "cell_type": "code",
   "execution_count": 45,
   "metadata": {},
   "outputs": [],
   "source": [
    "# Generate the signature\n",
    "message = b'Hello, this is secure message'\n",
    "sign = signature(message,private_key)"
   ]
  },
  {
   "cell_type": "code",
   "execution_count": 49,
   "metadata": {},
   "outputs": [
    {
     "name": "stdout",
     "output_type": "stream",
     "text": [
      "Signature is Valid\n"
     ]
    }
   ],
   "source": [
    "# Verify signature\n",
    "output = verify_signature(message,sign,public_key)\n"
   ]
  },
  {
   "cell_type": "code",
   "execution_count": 50,
   "metadata": {},
   "outputs": [
    {
     "name": "stdout",
     "output_type": "stream",
     "text": [
      "Sign not valid\n"
     ]
    }
   ],
   "source": [
    "# When message is wrong\n",
    "output = verify_signature(b'hello',sign,public_key)"
   ]
  },
  {
   "cell_type": "code",
   "execution_count": 52,
   "metadata": {},
   "outputs": [
    {
     "name": "stdout",
     "output_type": "stream",
     "text": [
      "Sign not valid\n"
     ]
    }
   ],
   "source": [
    "# When public key is not correct:\n",
    "wrong_private_key = rsa.generate_private_key(public_exponent=65537, key_size=2048)\n",
    "wrong_public_key = wrong_private_key.public_key()\n",
    "output = verify_signature(message,sign,wrong_public_key)\n"
   ]
  }
 ],
 "metadata": {
  "kernelspec": {
   "display_name": "base",
   "language": "python",
   "name": "python3"
  },
  "language_info": {
   "codemirror_mode": {
    "name": "ipython",
    "version": 3
   },
   "file_extension": ".py",
   "mimetype": "text/x-python",
   "name": "python",
   "nbconvert_exporter": "python",
   "pygments_lexer": "ipython3",
   "version": "3.10.12"
  }
 },
 "nbformat": 4,
 "nbformat_minor": 2
}
