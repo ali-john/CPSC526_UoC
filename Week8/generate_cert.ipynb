{
 "cells": [
  {
   "cell_type": "markdown",
   "metadata": {},
   "source": [
    "# Generating Self-Signed Certificates:"
   ]
  },
  {
   "cell_type": "markdown",
   "metadata": {},
   "source": [
    "### Create a root CA Certificate and Key\n",
    "- openssl req -x509 -newkey rsa:4096 -keyout rootCA.key -out rootCA.crt -days 365 -nodes\n"
   ]
  },
  {
   "cell_type": "markdown",
   "metadata": {},
   "source": [
    "### Generate Server Key and CSR (Certificate Signing Request):\n",
    "- openssl req -newkey rsa:4096 -keyout server.key -out server.csr -nodes\n"
   ]
  },
  {
   "cell_type": "markdown",
   "metadata": {},
   "source": [
    "### Sign Server CSR with Root CA:\n",
    "- openssl x509 -req -in server.csr -CA rootCA.crt -CAkey rootCA.key -CAcreateserial -out server.crt -days 365\n"
   ]
  },
  {
   "cell_type": "markdown",
   "metadata": {},
   "source": [
    "### Generate Client Key and CSR:\n",
    "- openssl req -newkey rsa:4096 -keyout client.key -out client.csr -nodes\n"
   ]
  },
  {
   "cell_type": "markdown",
   "metadata": {},
   "source": [
    "### Sign Client CSR with Root CA:\n",
    "- openssl x509 -req -in client.csr -CA rootCA.crt -CAkey rootCA.key -CAcreateserial -out client.crt -days 365\n"
   ]
  },
  {
   "cell_type": "markdown",
   "metadata": {},
   "source": [
    "### References:\n",
    "- https://pythontic.com/ssl/sslcontext/wrap_socket\n",
    "- https://resonant-cement-f3c.notion\n",
    "- https://youtu.be/VH4gXcvkmOY?si=WH02hZ8x7rac5KYj"
   ]
  }
 ],
 "metadata": {
  "kernelspec": {
   "display_name": "base",
   "language": "python",
   "name": "python3"
  },
  "language_info": {
   "name": "python",
   "version": "3.10.12"
  }
 },
 "nbformat": 4,
 "nbformat_minor": 2
}
