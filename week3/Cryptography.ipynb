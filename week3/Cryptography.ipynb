{
 "cells": [
  {
   "cell_type": "markdown",
   "metadata": {},
   "source": [
    "# Cryptography in Python"
   ]
  },
  {
   "cell_type": "markdown",
   "metadata": {},
   "source": [
    "### Lets first look at Symmetric key cryptography"
   ]
  },
  {
   "cell_type": "code",
   "execution_count": 2,
   "metadata": {},
   "outputs": [],
   "source": [
    "from cryptography.fernet import Fernet\n",
    "class Encryptor():\n",
    "\n",
    "    def key_create(self):\n",
    "        key = Fernet.generate_key()\n",
    "        return key\n",
    "\n",
    "    def key_write(self, key, key_name):\n",
    "        with open(key_name, 'wb') as mykey:\n",
    "            mykey.write(key)\n",
    "\n",
    "    def key_load(self, key_name):\n",
    "        with open(key_name, 'rb') as mykey:\n",
    "            key = mykey.read()\n",
    "        return key\n",
    "\n",
    "\n",
    "    def file_encrypt(self, key, original_file, encrypted_file):\n",
    "        \n",
    "        f = Fernet(key)\n",
    "\n",
    "        with open(original_file, 'rb') as file:\n",
    "            original = file.read()\n",
    "\n",
    "        encrypted = f.encrypt(original)\n",
    "\n",
    "        with open (encrypted_file, 'wb') as file:\n",
    "            file.write(encrypted)\n",
    "\n",
    "    def file_decrypt(self, key, encrypted_file, decrypted_file):\n",
    "        \n",
    "        f = Fernet(key)\n",
    "\n",
    "        with open(encrypted_file, 'rb') as file:\n",
    "            encrypted = file.read()\n",
    "\n",
    "        decrypted = f.decrypt(encrypted)\n",
    "\n",
    "        with open(decrypted_file, 'wb') as file:\n",
    "            file.write(decrypted)\n"
   ]
  },
  {
   "cell_type": "code",
   "execution_count": 1,
   "metadata": {},
   "outputs": [],
   "source": [
    "# Lets creat a file and store some text on it and encrypt and decrypt it\n",
    "with open('file.txt','w') as file:\n",
    "    file.write('Hello, this is secret message')\n"
   ]
  },
  {
   "cell_type": "code",
   "execution_count": 3,
   "metadata": {},
   "outputs": [],
   "source": [
    "# now call our methods to get encrypted and decrypted files\n",
    "encryptor=Encryptor()\n",
    "\n",
    "mykey=encryptor.key_create()\n",
    "\n",
    "encryptor.key_write(mykey, 'mykey.key')\n",
    "\n",
    "loaded_key=encryptor.key_load('mykey.key')\n",
    "\n",
    "encryptor.file_encrypt(loaded_key, 'file.txt', 'enc_file.txt')\n",
    "\n",
    "encryptor.file_decrypt(loaded_key, 'enc_file.txt', 'dec_file.txt')\n"
   ]
  },
  {
   "cell_type": "markdown",
   "metadata": {},
   "source": [
    "# Calculating Hash of a file in Python"
   ]
  },
  {
   "cell_type": "code",
   "execution_count": 6,
   "metadata": {},
   "outputs": [
    {
     "name": "stdout",
     "output_type": "stream",
     "text": [
      "SHA-256 Hash of 'message.txt': c8ed5e65713f8170b8d0769a8ed8c35740ba0b706d5856e22d709be1e001cf8c\n"
     ]
    }
   ],
   "source": [
    "from cryptography.hazmat.backends import default_backend\n",
    "from cryptography.hazmat.primitives import hashes\n",
    "\n",
    "def calculate_file_hash(file_path):\n",
    "    sha256_hash = hashes.Hash(hashes.SHA256())\n",
    "\n",
    "    with open(file_path, 'rb') as file:\n",
    "        while chunk := file.read(8192):\n",
    "            sha256_hash.update(chunk)\n",
    "\n",
    "# now finalize our hash\n",
    "    file_hash = sha256_hash.finalize()\n",
    "\n",
    "    return file_hash\n",
    "\n",
    "# Make sure you have this file in the same directory\n",
    "file_path = 'message.txt'\n",
    "hash_value = calculate_file_hash(file_path)\n",
    "\n",
    "print(f\"SHA-256 Hash of '{file_path}': {hash_value.hex()}\")\n",
    "\n",
    "\n",
    "#The := is known as the \"walrus operator,\"\n",
    "# We can also pass complete file at once to calculate its hash"
   ]
  },
  {
   "cell_type": "markdown",
   "metadata": {},
   "source": [
    "# Asymmetric Cryptography in Python"
   ]
  },
  {
   "cell_type": "code",
   "execution_count": 8,
   "metadata": {},
   "outputs": [],
   "source": [
    "from cryptography.hazmat.primitives import serialization\n",
    "from cryptography.hazmat.primitives.asymmetric import rsa, padding\n",
    "from cryptography.hazmat.primitives import hashes\n",
    "\n",
    "# generate public and private keys\n",
    "def generate_keys():\n",
    "    private_key = rsa.generate_private_key(\n",
    "        public_exponent=65537,\n",
    "        key_size=2048,\n",
    "    )\n",
    "\n",
    "    # public-private key pair\n",
    "    public_key = private_key.public_key()\n",
    "\n",
    "#Before serializing, cryptographic keys are typically represented as objects in memory.\n",
    "     \n",
    "    private_pem = private_key.private_bytes(\n",
    "        encoding=serialization.Encoding.PEM,\n",
    "        format=serialization.PrivateFormat.PKCS8,\n",
    "        encryption_algorithm=serialization.NoEncryption()\n",
    "    )\n",
    "\n",
    "    public_pem = public_key.public_bytes(\n",
    "        encoding=serialization.Encoding.PEM,\n",
    "        format=serialization.PublicFormat.SubjectPublicKeyInfo\n",
    "    )\n",
    "\n",
    "    return private_pem, public_pem\n",
    "\n",
    "def encrypt(message, public_key):\n",
    "    # load our keys\n",
    "    loaded_public_key = serialization.load_pem_public_key(public_key)\n",
    "\n",
    "    #Encrypt the message \n",
    "    ciphertext = loaded_public_key.encrypt(\n",
    "        message,\n",
    "        padding.OAEP(\n",
    "            mgf=padding.MGF1(algorithm=hashes.SHA256()),\n",
    "            algorithm=hashes.SHA256(),\n",
    "            label=None\n",
    "        )\n",
    "    )\n",
    "\n",
    "    return ciphertext\n",
    "\n",
    "def decrypt(ciphertext, private_key):\n",
    "    \n",
    "    loaded_private_key = serialization.load_pem_private_key(private_key, password=None)\n",
    "\n",
    "    #Decrypt the ciphertext\n",
    "    decrypted_message = loaded_private_key.decrypt(\n",
    "        ciphertext,\n",
    "        padding.OAEP(\n",
    "            mgf=padding.MGF1(algorithm=hashes.SHA256()),\n",
    "            algorithm=hashes.SHA256(),\n",
    "            label=None\n",
    "        )\n",
    "    )\n",
    "\n",
    "    return decrypted_message\n",
    "\n"
   ]
  },
  {
   "cell_type": "code",
   "execution_count": 9,
   "metadata": {},
   "outputs": [
    {
     "name": "stdout",
     "output_type": "stream",
     "text": [
      "Original Message: This is a secret message.\n",
      "Encrypted Message: 07c3bfcd507861832603b98682fdfab26769dbb200cdaa72720076053d7ca7ee1758d3a02d5b601e0a2e8d924debe8f124e682873301740855492b174f778a90bee2b2522e0937b79515f9e1f79ba41a16acc50cc70c99c1c4efbf1f19003d9ba44f868a8eddd6ad07cf64f49308ce900a7d36c11ef92399d341082dd717a84a7c57c369000c1f4467759fd54943132a264060718a3a3890d5b4e617446acf709412fe95a0c6b7481b67e45ec0edf6cd3217271c5e5cc0de71712ee791f30e3d5531d573fe95518899eda20d6d3f28f0899cf672a8f5cfd83f4df89d99104dbce3c8e7c51d8e3878fb1e801fd9555a3f7757c7a1dd9ee5a67b7ebe948fec2ce2\n",
      "Decrypted Message: This is a secret message.\n"
     ]
    }
   ],
   "source": [
    "private_key, public_key = generate_keys()\n",
    "\n",
    "original_message = b'This is a secret message.'\n",
    "\n",
    "encrypted_message = encrypt(original_message, public_key)\n",
    "decrypted_message = decrypt(encrypted_message, private_key)\n",
    "\n",
    "print(f'Original Message: {original_message.decode()}')\n",
    "print(f'Encrypted Message: {encrypted_message.hex()}')\n",
    "print(f'Decrypted Message: {decrypted_message.decode()}')"
   ]
  }
 ],
 "metadata": {
  "kernelspec": {
   "display_name": "base",
   "language": "python",
   "name": "python3"
  },
  "language_info": {
   "codemirror_mode": {
    "name": "ipython",
    "version": 3
   },
   "file_extension": ".py",
   "mimetype": "text/x-python",
   "name": "python",
   "nbconvert_exporter": "python",
   "pygments_lexer": "ipython3",
   "version": "3.10.12"
  }
 },
 "nbformat": 4,
 "nbformat_minor": 2
}
