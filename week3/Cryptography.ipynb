{
 "cells": [
  {
   "cell_type": "markdown",
   "metadata": {},
   "source": [
    "# Cryptography in Python"
   ]
  },
  {
   "cell_type": "markdown",
   "metadata": {},
   "source": [
    "### Lets first look at Symmetric key cryptography"
   ]
  },
  {
   "cell_type": "code",
   "execution_count": 2,
   "metadata": {},
   "outputs": [],
   "source": [
    "from cryptography.fernet import Fernet\n",
    "class Encryptor():\n",
    "\n",
    "    def key_create(self):\n",
    "        key = Fernet.generate_key()\n",
    "        return key\n",
    "\n",
    "    def key_write(self, key, key_name):\n",
    "        with open(key_name, 'wb') as mykey:\n",
    "            mykey.write(key)\n",
    "\n",
    "    def key_load(self, key_name):\n",
    "        with open(key_name, 'rb') as mykey:\n",
    "            key = mykey.read()\n",
    "        return key\n",
    "\n",
    "\n",
    "    def file_encrypt(self, key, original_file, encrypted_file):\n",
    "        \n",
    "        f = Fernet(key)\n",
    "\n",
    "        with open(original_file, 'rb') as file:\n",
    "            original = file.read()\n",
    "\n",
    "        encrypted = f.encrypt(original)\n",
    "\n",
    "        with open (encrypted_file, 'wb') as file:\n",
    "            file.write(encrypted)\n",
    "\n",
    "    def file_decrypt(self, key, encrypted_file, decrypted_file):\n",
    "        \n",
    "        f = Fernet(key)\n",
    "\n",
    "        with open(encrypted_file, 'rb') as file:\n",
    "            encrypted = file.read()\n",
    "\n",
    "        decrypted = f.decrypt(encrypted)\n",
    "\n",
    "        with open(decrypted_file, 'wb') as file:\n",
    "            file.write(decrypted)\n"
   ]
  },
  {
   "cell_type": "code",
   "execution_count": 1,
   "metadata": {},
   "outputs": [],
   "source": [
    "# Lets creat a file and store some text on it and encrypt and decrypt it\n",
    "with open('file.txt','w') as file:\n",
    "    file.write('Hello, this is secret message')\n"
   ]
  },
  {
   "cell_type": "code",
   "execution_count": 3,
   "metadata": {},
   "outputs": [],
   "source": [
    "# now call our methods to get encrypted and decrypted files\n",
    "encryptor=Encryptor()\n",
    "\n",
    "mykey=encryptor.key_create()\n",
    "\n",
    "encryptor.key_write(mykey, 'mykey.key')\n",
    "\n",
    "loaded_key=encryptor.key_load('mykey.key')\n",
    "\n",
    "encryptor.file_encrypt(loaded_key, 'file.txt', 'enc_file.txt')\n",
    "\n",
    "encryptor.file_decrypt(loaded_key, 'enc_file.txt', 'dec_file.txt')\n"
   ]
  },
  {
   "cell_type": "markdown",
   "metadata": {},
   "source": [
    "# Calculating Hash of a file in Python"
   ]
  },
  {
   "cell_type": "code",
   "execution_count": 6,
   "metadata": {},
   "outputs": [
    {
     "name": "stdout",
     "output_type": "stream",
     "text": [
      "SHA-256 Hash of 'message.txt': c8ed5e65713f8170b8d0769a8ed8c35740ba0b706d5856e22d709be1e001cf8c\n"
     ]
    }
   ],
   "source": [
    "from cryptography.hazmat.backends import default_backend\n",
    "from cryptography.hazmat.primitives import hashes\n",
    "\n",
    "def calculate_file_hash(file_path):\n",
    "    sha256_hash = hashes.Hash(hashes.SHA256())\n",
    "\n",
    "    with open(file_path, 'rb') as file:\n",
    "        while chunk := file.read(8192):\n",
    "            sha256_hash.update(chunk)\n",
    "\n",
    "# now finalize our hash\n",
    "    file_hash = sha256_hash.finalize()\n",
    "\n",
    "    return file_hash\n",
    "\n",
    "# Make sure you have this file in the same directory\n",
    "file_path = 'message.txt'\n",
    "hash_value = calculate_file_hash(file_path)\n",
    "\n",
    "print(f\"SHA-256 Hash of '{file_path}': {hash_value.hex()}\")\n",
    "\n",
    "\n",
    "#The := is known as the \"walrus operator,\"\n",
    "# We can also pass complete file at once to calculate its hash"
   ]
  }
 ],
 "metadata": {
  "kernelspec": {
   "display_name": "base",
   "language": "python",
   "name": "python3"
  },
  "language_info": {
   "codemirror_mode": {
    "name": "ipython",
    "version": 3
   },
   "file_extension": ".py",
   "mimetype": "text/x-python",
   "name": "python",
   "nbconvert_exporter": "python",
   "pygments_lexer": "ipython3",
   "version": "3.10.12"
  }
 },
 "nbformat": 4,
 "nbformat_minor": 2
}
