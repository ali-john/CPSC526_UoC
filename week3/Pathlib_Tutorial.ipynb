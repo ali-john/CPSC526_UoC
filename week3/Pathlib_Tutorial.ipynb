{
 "cells": [
  {
   "cell_type": "markdown",
   "metadata": {},
   "source": [
    "# Python pathlib Module"
   ]
  },
  {
   "cell_type": "markdown",
   "metadata": {},
   "source": [
    "**Why you should consider using `pathlib`?**\n",
    "- `pathlib` makes it super easy to work with files and interact with the file system\n",
    "- `pathlib` works accross all operating systems (Windows uses \\ while Mac and Linux use / as a separator)\n",
    "- `pathlib` is treating file paths as objects"
   ]
  },
  {
   "cell_type": "markdown",
   "metadata": {},
   "source": [
    "**Importing the main class:**"
   ]
  },
  {
   "cell_type": "code",
   "execution_count": 1,
   "metadata": {},
   "outputs": [],
   "source": [
    "from pathlib import Path"
   ]
  },
  {
   "cell_type": "markdown",
   "metadata": {},
   "source": [
    "**Get the home directory**"
   ]
  },
  {
   "cell_type": "code",
   "execution_count": 2,
   "metadata": {},
   "outputs": [
    {
     "data": {
      "text/plain": [
       "PosixPath('/Users/alijohnnaqvi')"
      ]
     },
     "execution_count": 2,
     "metadata": {},
     "output_type": "execute_result"
    }
   ],
   "source": [
    "home_dir = Path.home()\n",
    "home_dir"
   ]
  },
  {
   "cell_type": "markdown",
   "metadata": {},
   "source": [
    "**Get the path to the current working directory**"
   ]
  },
  {
   "cell_type": "code",
   "execution_count": 3,
   "metadata": {},
   "outputs": [
    {
     "data": {
      "text/plain": [
       "PosixPath('/Users/alijohnnaqvi/Desktop/Winter2024/TA/CPSC526_UoC/week3')"
      ]
     },
     "execution_count": 3,
     "metadata": {},
     "output_type": "execute_result"
    }
   ],
   "source": [
    "cwd = Path.cwd()\n",
    "cwd"
   ]
  },
  {
   "cell_type": "markdown",
   "metadata": {},
   "source": [
    "**Get the first parent folder path**"
   ]
  },
  {
   "cell_type": "code",
   "execution_count": 4,
   "metadata": {},
   "outputs": [
    {
     "data": {
      "text/plain": [
       "PosixPath('/Users/alijohnnaqvi/Desktop/Winter2024/TA/CPSC526_UoC')"
      ]
     },
     "execution_count": 4,
     "metadata": {},
     "output_type": "execute_result"
    }
   ],
   "source": [
    "one_above = Path.cwd().parent \n",
    "one_above"
   ]
  },
  {
   "cell_type": "markdown",
   "metadata": {},
   "source": [
    "**Get the Nth parent folder path**"
   ]
  },
  {
   "cell_type": "code",
   "execution_count": 7,
   "metadata": {},
   "outputs": [
    {
     "data": {
      "text/plain": [
       "PosixPath('/Users/alijohnnaqvi/Desktop/Winter2024')"
      ]
     },
     "execution_count": 7,
     "metadata": {},
     "output_type": "execute_result"
    }
   ],
   "source": [
    "n_above = Path.cwd().parents[2]\n",
    "n_above"
   ]
  },
  {
   "cell_type": "markdown",
   "metadata": {},
   "source": [
    "**Join paths**"
   ]
  },
  {
   "cell_type": "code",
   "execution_count": 6,
   "metadata": {},
   "outputs": [
    {
     "data": {
      "text/plain": [
       "PosixPath('/Users/alijohnnaqvi/Desktop/Winter2024/TA/CPSC526_UoC/week3/TestDir')"
      ]
     },
     "execution_count": 6,
     "metadata": {},
     "output_type": "execute_result"
    }
   ],
   "source": [
    "# In pathlib module, '/' act as a special operator to join the paths\n",
    "joined_path = cwd / 'TestDir'\n",
    "joined_path"
   ]
  },
  {
   "cell_type": "markdown",
   "metadata": {},
   "source": [
    "**Create a directory if it does not exist**"
   ]
  },
  {
   "cell_type": "code",
   "execution_count": 8,
   "metadata": {},
   "outputs": [],
   "source": [
    "joined_path.mkdir(exist_ok=True)\n",
    "# exist_ok: to ignore 'FileExistsError'if the target directory already exists"
   ]
  },
  {
   "cell_type": "markdown",
   "metadata": {},
   "source": [
    "**Check if the path is a folder**"
   ]
  },
  {
   "cell_type": "code",
   "execution_count": 9,
   "metadata": {},
   "outputs": [
    {
     "data": {
      "text/plain": [
       "True"
      ]
     },
     "execution_count": 9,
     "metadata": {},
     "output_type": "execute_result"
    }
   ],
   "source": [
    "joined_path.is_dir()"
   ]
  },
  {
   "cell_type": "markdown",
   "metadata": {},
   "source": [
    "**Check if the path is a file**"
   ]
  },
  {
   "cell_type": "code",
   "execution_count": 10,
   "metadata": {},
   "outputs": [
    {
     "data": {
      "text/plain": [
       "False"
      ]
     },
     "execution_count": 10,
     "metadata": {},
     "output_type": "execute_result"
    }
   ],
   "source": [
    "example_file = cwd / \"somefile.txt\"\n",
    "example_file.is_file()\n",
    "#since file does not exists, it is returning a false value"
   ]
  },
  {
   "cell_type": "markdown",
   "metadata": {},
   "source": [
    "**Get the file name**"
   ]
  },
  {
   "cell_type": "code",
   "execution_count": 11,
   "metadata": {},
   "outputs": [
    {
     "data": {
      "text/plain": [
       "'somefile.txt'"
      ]
     },
     "execution_count": 11,
     "metadata": {},
     "output_type": "execute_result"
    }
   ],
   "source": [
    "file_name = example_file.name\n",
    "file_name"
   ]
  },
  {
   "cell_type": "markdown",
   "metadata": {},
   "source": [
    "**Get the file name w/o extension**"
   ]
  },
  {
   "cell_type": "code",
   "execution_count": 12,
   "metadata": {},
   "outputs": [
    {
     "data": {
      "text/plain": [
       "'somefile'"
      ]
     },
     "execution_count": 12,
     "metadata": {},
     "output_type": "execute_result"
    }
   ],
   "source": [
    "file_name = example_file.stem\n",
    "file_name"
   ]
  },
  {
   "cell_type": "markdown",
   "metadata": {},
   "source": [
    "**Get the file extension**"
   ]
  },
  {
   "cell_type": "code",
   "execution_count": 13,
   "metadata": {},
   "outputs": [
    {
     "data": {
      "text/plain": [
       "'.txt'"
      ]
     },
     "execution_count": 13,
     "metadata": {},
     "output_type": "execute_result"
    }
   ],
   "source": [
    "file_extension = example_file.suffix\n",
    "file_extension"
   ]
  },
  {
   "cell_type": "markdown",
   "metadata": {},
   "source": [
    "**Iterate over files in a directory**"
   ]
  },
  {
   "cell_type": "code",
   "execution_count": 14,
   "metadata": {},
   "outputs": [
    {
     "name": "stdout",
     "output_type": "stream",
     "text": [
      "/Users/alijohnnaqvi/Desktop/Winter2024/TA/CPSC526_UoC/week3/TestDir/sampleDocs.docx\n",
      "/Users/alijohnnaqvi/Desktop/Winter2024/TA/CPSC526_UoC/week3/TestDir/.DS_Store\n",
      "/Users/alijohnnaqvi/Desktop/Winter2024/TA/CPSC526_UoC/week3/TestDir/code\n",
      "/Users/alijohnnaqvi/Desktop/Winter2024/TA/CPSC526_UoC/week3/TestDir/sampleScript.py\n",
      "/Users/alijohnnaqvi/Desktop/Winter2024/TA/CPSC526_UoC/week3/TestDir/analysis.numbers\n",
      "/Users/alijohnnaqvi/Desktop/Winter2024/TA/CPSC526_UoC/week3/TestDir/samplePages.pages\n"
     ]
    }
   ],
   "source": [
    "target_dir = cwd / \"TestDir\"\n",
    "for file in target_dir.iterdir():\n",
    "    print(file)"
   ]
  },
  {
   "cell_type": "markdown",
   "metadata": {},
   "source": [
    "**Iterate over files in a directory combined with suffix**"
   ]
  },
  {
   "cell_type": "code",
   "execution_count": 18,
   "metadata": {},
   "outputs": [
    {
     "name": "stdout",
     "output_type": "stream",
     "text": [
      "/Users/alijohnnaqvi/Desktop/Winter2024/TA/CPSC526_UoC/week3/TestDir/sampleScript.py\n"
     ]
    }
   ],
   "source": [
    "for file in target_dir.iterdir():\n",
    "    if file.suffix == \".py\":\n",
    "        print(file)"
   ]
  },
  {
   "cell_type": "markdown",
   "metadata": {},
   "source": [
    "**Iterate over files in a directory incl. sub folder(s)**"
   ]
  },
  {
   "cell_type": "code",
   "execution_count": 19,
   "metadata": {},
   "outputs": [
    {
     "name": "stdout",
     "output_type": "stream",
     "text": [
      "/Users/alijohnnaqvi/Desktop/Winter2024/TA/CPSC526_UoC/week3/TestDir/sampleDocs.docx\n",
      "/Users/alijohnnaqvi/Desktop/Winter2024/TA/CPSC526_UoC/week3/TestDir/.DS_Store\n",
      "/Users/alijohnnaqvi/Desktop/Winter2024/TA/CPSC526_UoC/week3/TestDir/code\n",
      "/Users/alijohnnaqvi/Desktop/Winter2024/TA/CPSC526_UoC/week3/TestDir/sampleScript.py\n",
      "/Users/alijohnnaqvi/Desktop/Winter2024/TA/CPSC526_UoC/week3/TestDir/analysis.numbers\n",
      "/Users/alijohnnaqvi/Desktop/Winter2024/TA/CPSC526_UoC/week3/TestDir/samplePages.pages\n",
      "/Users/alijohnnaqvi/Desktop/Winter2024/TA/CPSC526_UoC/week3/TestDir/code/web.py\n",
      "/Users/alijohnnaqvi/Desktop/Winter2024/TA/CPSC526_UoC/week3/TestDir/code/.DS_Store\n",
      "/Users/alijohnnaqvi/Desktop/Winter2024/TA/CPSC526_UoC/week3/TestDir/code/xyz.py\n",
      "/Users/alijohnnaqvi/Desktop/Winter2024/TA/CPSC526_UoC/week3/TestDir/code/abc.py\n"
     ]
    }
   ],
   "source": [
    "# way 1\n",
    "for file in target_dir.rglob(\"*\"):\n",
    "    print(file)"
   ]
  },
  {
   "cell_type": "code",
   "execution_count": 23,
   "metadata": {},
   "outputs": [
    {
     "data": {
      "text/plain": [
       "[PosixPath('/Users/alijohnnaqvi/Desktop/Winter2024/TA/CPSC526_UoC/week3/TestDir/sampleDocs.docx'),\n",
       " PosixPath('/Users/alijohnnaqvi/Desktop/Winter2024/TA/CPSC526_UoC/week3/TestDir/.DS_Store'),\n",
       " PosixPath('/Users/alijohnnaqvi/Desktop/Winter2024/TA/CPSC526_UoC/week3/TestDir/code'),\n",
       " PosixPath('/Users/alijohnnaqvi/Desktop/Winter2024/TA/CPSC526_UoC/week3/TestDir/sampleScript.py'),\n",
       " PosixPath('/Users/alijohnnaqvi/Desktop/Winter2024/TA/CPSC526_UoC/week3/TestDir/analysis.numbers'),\n",
       " PosixPath('/Users/alijohnnaqvi/Desktop/Winter2024/TA/CPSC526_UoC/week3/TestDir/samplePages.pages'),\n",
       " PosixPath('/Users/alijohnnaqvi/Desktop/Winter2024/TA/CPSC526_UoC/week3/TestDir/code/web.py'),\n",
       " PosixPath('/Users/alijohnnaqvi/Desktop/Winter2024/TA/CPSC526_UoC/week3/TestDir/code/.DS_Store'),\n",
       " PosixPath('/Users/alijohnnaqvi/Desktop/Winter2024/TA/CPSC526_UoC/week3/TestDir/code/xyz.py'),\n",
       " PosixPath('/Users/alijohnnaqvi/Desktop/Winter2024/TA/CPSC526_UoC/week3/TestDir/code/abc.py')]"
      ]
     },
     "execution_count": 23,
     "metadata": {},
     "output_type": "execute_result"
    }
   ],
   "source": [
    "# way 2\n",
    "list(target_dir.glob('**/*'))\n",
    "\n",
    "#The glob returns a generator which is then converted to list to display all values"
   ]
  },
  {
   "cell_type": "markdown",
   "metadata": {},
   "source": [
    "**Searching files and directories with some pattern**"
   ]
  },
  {
   "cell_type": "markdown",
   "metadata": {},
   "source": [
    "`*` Matches everythings   -- e.g: `*.pdf` return all files with pdf extension\n",
    "\n",
    "`?` Matches any single character  --e.g `sales/??.jpeg` matches all two character long jpeg files in sales folder\n",
    "\n",
    "`[]` Matches any character in the sequence  --e.g `[psr]*` matches files starting with p,s, or r."
   ]
  },
  {
   "cell_type": "code",
   "execution_count": 24,
   "metadata": {},
   "outputs": [
    {
     "data": {
      "text/plain": [
       "[PosixPath('/Users/alijohnnaqvi/Desktop/Winter2024/TA/CPSC526_UoC/week3/TestDir/sampleScript.py'),\n",
       " PosixPath('/Users/alijohnnaqvi/Desktop/Winter2024/TA/CPSC526_UoC/week3/TestDir/code/web.py'),\n",
       " PosixPath('/Users/alijohnnaqvi/Desktop/Winter2024/TA/CPSC526_UoC/week3/TestDir/code/xyz.py'),\n",
       " PosixPath('/Users/alijohnnaqvi/Desktop/Winter2024/TA/CPSC526_UoC/week3/TestDir/code/abc.py')]"
      ]
     },
     "execution_count": 24,
     "metadata": {},
     "output_type": "execute_result"
    }
   ],
   "source": [
    "# Searching only files that end with py extension in a directory or sub directories\n",
    "list(target_dir.glob('**/*.py'))"
   ]
  },
  {
   "cell_type": "code",
   "execution_count": 42,
   "metadata": {},
   "outputs": [
    {
     "data": {
      "text/plain": [
       "[PosixPath('/Users/alijohnnaqvi/Desktop/Winter2024/TA/CPSC526_UoC/week3/TestDir/analysis.numbers'),\n",
       " PosixPath('/Users/alijohnnaqvi/Desktop/Winter2024/TA/CPSC526_UoC/week3/TestDir/code/abc.py')]"
      ]
     },
     "execution_count": 42,
     "metadata": {},
     "output_type": "execute_result"
    }
   ],
   "source": [
    "# search for files starting with 'a' and atleast have two characters in name\n",
    "list(target_dir.glob('**/[a]??*'))"
   ]
  },
  {
   "cell_type": "markdown",
   "metadata": {},
   "source": [
    "To read more on this module please visit: https://docs.python.org/3/library/pathlib.html"
   ]
  }
 ],
 "metadata": {
  "kernelspec": {
   "display_name": "Python 3",
   "language": "python",
   "name": "python3"
  },
  "language_info": {
   "codemirror_mode": {
    "name": "ipython",
    "version": 3
   },
   "file_extension": ".py",
   "mimetype": "text/x-python",
   "name": "python",
   "nbconvert_exporter": "python",
   "pygments_lexer": "ipython3",
   "version": "3.10.12"
  }
 },
 "nbformat": 4,
 "nbformat_minor": 4
}
